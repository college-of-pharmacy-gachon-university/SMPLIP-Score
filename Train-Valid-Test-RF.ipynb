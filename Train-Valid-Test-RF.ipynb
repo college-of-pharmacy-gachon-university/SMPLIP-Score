{
 "cells": [
  {
   "cell_type": "code",
   "execution_count": 1,
   "metadata": {},
   "outputs": [],
   "source": [
    "import os\n",
    "import warnings\n",
    "warnings.filterwarnings(\"ignore\")"
   ]
  },
  {
   "cell_type": "code",
   "execution_count": 2,
   "metadata": {},
   "outputs": [],
   "source": [
    "#import libraries\n",
    "from sklearn.ensemble import RandomForestRegressor\n",
    "from sklearn.model_selection import train_test_split\n",
    "from sklearn.metrics import r2_score\n",
    "from sklearn.metrics import mean_squared_error\n",
    "from sklearn.metrics import mean_absolute_error\n",
    "from sklearn import model_selection\n",
    "from scipy.stats import spearmanr\n",
    "from scipy.stats import pearsonr\n",
    "import math\n",
    "from math import sqrt\n",
    "import pandas as pd\n",
    "import numpy as np"
   ]
  },
  {
   "cell_type": "code",
   "execution_count": 3,
   "metadata": {},
   "outputs": [],
   "source": [
    "# Read the data\n",
    "df_TR = pd.read_csv(\"REFINED-MATRIX_Int_Frag_3481.csv\") # Training Set\n",
    "df_TS = pd.read_csv(\"CORE-MATRIX_Int_Frag_180.csv\") # Test set"
   ]
  },
  {
   "cell_type": "code",
   "execution_count": 4,
   "metadata": {},
   "outputs": [
    {
     "data": {
      "text/plain": [
       "(3481, 2425)"
      ]
     },
     "execution_count": 4,
     "metadata": {},
     "output_type": "execute_result"
    }
   ],
   "source": [
    "df_TR.shape"
   ]
  },
  {
   "cell_type": "code",
   "execution_count": 5,
   "metadata": {},
   "outputs": [
    {
     "data": {
      "text/plain": [
       "(180, 2425)"
      ]
     },
     "execution_count": 5,
     "metadata": {},
     "output_type": "execute_result"
    }
   ],
   "source": [
    "df_TS.shape"
   ]
  },
  {
   "cell_type": "code",
   "execution_count": 6,
   "metadata": {},
   "outputs": [
    {
     "data": {
      "text/html": [
       "<div>\n",
       "<style scoped>\n",
       "    .dataframe tbody tr th:only-of-type {\n",
       "        vertical-align: middle;\n",
       "    }\n",
       "\n",
       "    .dataframe tbody tr th {\n",
       "        vertical-align: top;\n",
       "    }\n",
       "\n",
       "    .dataframe thead th {\n",
       "        text-align: right;\n",
       "    }\n",
       "</style>\n",
       "<table border=\"1\" class=\"dataframe\">\n",
       "  <thead>\n",
       "    <tr style=\"text-align: right;\">\n",
       "      <th></th>\n",
       "      <th>PDB_ID</th>\n",
       "      <th>Resolution</th>\n",
       "      <th>pKd</th>\n",
       "      <th>CN</th>\n",
       "      <th>CC</th>\n",
       "      <th>CO</th>\n",
       "      <th>CS</th>\n",
       "      <th>CH</th>\n",
       "      <th>HN</th>\n",
       "      <th>CCC</th>\n",
       "      <th>...</th>\n",
       "      <th>LYS_Aromatic_E/F</th>\n",
       "      <th>MET_Aromatic_E/F</th>\n",
       "      <th>PHE_Aromatic_E/F</th>\n",
       "      <th>PRO_Aromatic_E/F</th>\n",
       "      <th>SER_Aromatic_E/F</th>\n",
       "      <th>THR_Aromatic_E/F</th>\n",
       "      <th>TRP_Aromatic_E/F</th>\n",
       "      <th>TYR_Aromatic_E/F</th>\n",
       "      <th>VAL_Aromatic_E/F</th>\n",
       "      <th>GLU_Aromatic_E/F</th>\n",
       "    </tr>\n",
       "  </thead>\n",
       "  <tbody>\n",
       "    <tr>\n",
       "      <th>0</th>\n",
       "      <td>184l</td>\n",
       "      <td>1.8</td>\n",
       "      <td>4.72</td>\n",
       "      <td>0</td>\n",
       "      <td>10</td>\n",
       "      <td>0</td>\n",
       "      <td>0</td>\n",
       "      <td>14</td>\n",
       "      <td>0</td>\n",
       "      <td>12</td>\n",
       "      <td>...</td>\n",
       "      <td>0</td>\n",
       "      <td>0</td>\n",
       "      <td>0</td>\n",
       "      <td>0</td>\n",
       "      <td>0</td>\n",
       "      <td>0</td>\n",
       "      <td>0</td>\n",
       "      <td>0</td>\n",
       "      <td>0</td>\n",
       "      <td>0</td>\n",
       "    </tr>\n",
       "    <tr>\n",
       "      <th>1</th>\n",
       "      <td>185l</td>\n",
       "      <td>1.8</td>\n",
       "      <td>3.54</td>\n",
       "      <td>2</td>\n",
       "      <td>8</td>\n",
       "      <td>0</td>\n",
       "      <td>0</td>\n",
       "      <td>6</td>\n",
       "      <td>1</td>\n",
       "      <td>9</td>\n",
       "      <td>...</td>\n",
       "      <td>0</td>\n",
       "      <td>0</td>\n",
       "      <td>0</td>\n",
       "      <td>0</td>\n",
       "      <td>0</td>\n",
       "      <td>0</td>\n",
       "      <td>0</td>\n",
       "      <td>0</td>\n",
       "      <td>0</td>\n",
       "      <td>0</td>\n",
       "    </tr>\n",
       "    <tr>\n",
       "      <th>2</th>\n",
       "      <td>186l</td>\n",
       "      <td>1.8</td>\n",
       "      <td>4.85</td>\n",
       "      <td>0</td>\n",
       "      <td>10</td>\n",
       "      <td>0</td>\n",
       "      <td>0</td>\n",
       "      <td>14</td>\n",
       "      <td>0</td>\n",
       "      <td>11</td>\n",
       "      <td>...</td>\n",
       "      <td>0</td>\n",
       "      <td>0</td>\n",
       "      <td>0</td>\n",
       "      <td>0</td>\n",
       "      <td>0</td>\n",
       "      <td>0</td>\n",
       "      <td>0</td>\n",
       "      <td>0</td>\n",
       "      <td>0</td>\n",
       "      <td>0</td>\n",
       "    </tr>\n",
       "    <tr>\n",
       "      <th>3</th>\n",
       "      <td>187l</td>\n",
       "      <td>1.8</td>\n",
       "      <td>3.37</td>\n",
       "      <td>0</td>\n",
       "      <td>8</td>\n",
       "      <td>0</td>\n",
       "      <td>0</td>\n",
       "      <td>10</td>\n",
       "      <td>0</td>\n",
       "      <td>10</td>\n",
       "      <td>...</td>\n",
       "      <td>0</td>\n",
       "      <td>0</td>\n",
       "      <td>0</td>\n",
       "      <td>0</td>\n",
       "      <td>0</td>\n",
       "      <td>0</td>\n",
       "      <td>0</td>\n",
       "      <td>0</td>\n",
       "      <td>0</td>\n",
       "      <td>0</td>\n",
       "    </tr>\n",
       "    <tr>\n",
       "      <th>4</th>\n",
       "      <td>188l</td>\n",
       "      <td>1.8</td>\n",
       "      <td>3.33</td>\n",
       "      <td>0</td>\n",
       "      <td>8</td>\n",
       "      <td>0</td>\n",
       "      <td>0</td>\n",
       "      <td>10</td>\n",
       "      <td>0</td>\n",
       "      <td>10</td>\n",
       "      <td>...</td>\n",
       "      <td>0</td>\n",
       "      <td>0</td>\n",
       "      <td>0</td>\n",
       "      <td>0</td>\n",
       "      <td>0</td>\n",
       "      <td>0</td>\n",
       "      <td>0</td>\n",
       "      <td>0</td>\n",
       "      <td>0</td>\n",
       "      <td>0</td>\n",
       "    </tr>\n",
       "  </tbody>\n",
       "</table>\n",
       "<p>5 rows × 2425 columns</p>\n",
       "</div>"
      ],
      "text/plain": [
       "  PDB_ID  Resolution   pKd  CN  CC  CO  CS  CH  HN  CCC  ...  \\\n",
       "0   184l         1.8  4.72   0  10   0   0  14   0   12  ...   \n",
       "1   185l         1.8  3.54   2   8   0   0   6   1    9  ...   \n",
       "2   186l         1.8  4.85   0  10   0   0  14   0   11  ...   \n",
       "3   187l         1.8  3.37   0   8   0   0  10   0   10  ...   \n",
       "4   188l         1.8  3.33   0   8   0   0  10   0   10  ...   \n",
       "\n",
       "   LYS_Aromatic_E/F  MET_Aromatic_E/F  PHE_Aromatic_E/F  PRO_Aromatic_E/F  \\\n",
       "0                 0                 0                 0                 0   \n",
       "1                 0                 0                 0                 0   \n",
       "2                 0                 0                 0                 0   \n",
       "3                 0                 0                 0                 0   \n",
       "4                 0                 0                 0                 0   \n",
       "\n",
       "   SER_Aromatic_E/F  THR_Aromatic_E/F  TRP_Aromatic_E/F  TYR_Aromatic_E/F  \\\n",
       "0                 0                 0                 0                 0   \n",
       "1                 0                 0                 0                 0   \n",
       "2                 0                 0                 0                 0   \n",
       "3                 0                 0                 0                 0   \n",
       "4                 0                 0                 0                 0   \n",
       "\n",
       "   VAL_Aromatic_E/F  GLU_Aromatic_E/F  \n",
       "0                 0                 0  \n",
       "1                 0                 0  \n",
       "2                 0                 0  \n",
       "3                 0                 0  \n",
       "4                 0                 0  \n",
       "\n",
       "[5 rows x 2425 columns]"
      ]
     },
     "execution_count": 6,
     "metadata": {},
     "output_type": "execute_result"
    }
   ],
   "source": [
    "df_TR.head()"
   ]
  },
  {
   "cell_type": "code",
   "execution_count": 7,
   "metadata": {},
   "outputs": [
    {
     "data": {
      "text/html": [
       "<div>\n",
       "<style scoped>\n",
       "    .dataframe tbody tr th:only-of-type {\n",
       "        vertical-align: middle;\n",
       "    }\n",
       "\n",
       "    .dataframe tbody tr th {\n",
       "        vertical-align: top;\n",
       "    }\n",
       "\n",
       "    .dataframe thead th {\n",
       "        text-align: right;\n",
       "    }\n",
       "</style>\n",
       "<table border=\"1\" class=\"dataframe\">\n",
       "  <thead>\n",
       "    <tr style=\"text-align: right;\">\n",
       "      <th></th>\n",
       "      <th>PDB_ID</th>\n",
       "      <th>Resolution</th>\n",
       "      <th>pKd</th>\n",
       "      <th>CN</th>\n",
       "      <th>CC</th>\n",
       "      <th>CO</th>\n",
       "      <th>CS</th>\n",
       "      <th>CH</th>\n",
       "      <th>HN</th>\n",
       "      <th>CCC</th>\n",
       "      <th>...</th>\n",
       "      <th>LYS_Aromatic_E/F</th>\n",
       "      <th>MET_Aromatic_E/F</th>\n",
       "      <th>PHE_Aromatic_E/F</th>\n",
       "      <th>PRO_Aromatic_E/F</th>\n",
       "      <th>SER_Aromatic_E/F</th>\n",
       "      <th>THR_Aromatic_E/F</th>\n",
       "      <th>TRP_Aromatic_E/F</th>\n",
       "      <th>TYR_Aromatic_E/F</th>\n",
       "      <th>VAL_Aromatic_E/F</th>\n",
       "      <th>GLU_Aromatic_E/F</th>\n",
       "    </tr>\n",
       "  </thead>\n",
       "  <tbody>\n",
       "    <tr>\n",
       "      <th>0</th>\n",
       "      <td>10gs</td>\n",
       "      <td>2.2</td>\n",
       "      <td>6.40</td>\n",
       "      <td>5</td>\n",
       "      <td>21</td>\n",
       "      <td>6</td>\n",
       "      <td>2</td>\n",
       "      <td>21</td>\n",
       "      <td>5</td>\n",
       "      <td>21</td>\n",
       "      <td>...</td>\n",
       "      <td>0</td>\n",
       "      <td>0</td>\n",
       "      <td>0</td>\n",
       "      <td>0</td>\n",
       "      <td>0</td>\n",
       "      <td>0</td>\n",
       "      <td>0</td>\n",
       "      <td>0</td>\n",
       "      <td>0</td>\n",
       "      <td>0</td>\n",
       "    </tr>\n",
       "    <tr>\n",
       "      <th>1</th>\n",
       "      <td>1bcu</td>\n",
       "      <td>2.0</td>\n",
       "      <td>3.28</td>\n",
       "      <td>4</td>\n",
       "      <td>14</td>\n",
       "      <td>0</td>\n",
       "      <td>0</td>\n",
       "      <td>7</td>\n",
       "      <td>4</td>\n",
       "      <td>17</td>\n",
       "      <td>...</td>\n",
       "      <td>0</td>\n",
       "      <td>0</td>\n",
       "      <td>0</td>\n",
       "      <td>0</td>\n",
       "      <td>0</td>\n",
       "      <td>0</td>\n",
       "      <td>0</td>\n",
       "      <td>0</td>\n",
       "      <td>0</td>\n",
       "      <td>0</td>\n",
       "    </tr>\n",
       "    <tr>\n",
       "      <th>2</th>\n",
       "      <td>1e66</td>\n",
       "      <td>2.1</td>\n",
       "      <td>9.89</td>\n",
       "      <td>3</td>\n",
       "      <td>20</td>\n",
       "      <td>0</td>\n",
       "      <td>0</td>\n",
       "      <td>17</td>\n",
       "      <td>2</td>\n",
       "      <td>27</td>\n",
       "      <td>...</td>\n",
       "      <td>0</td>\n",
       "      <td>0</td>\n",
       "      <td>0</td>\n",
       "      <td>0</td>\n",
       "      <td>0</td>\n",
       "      <td>0</td>\n",
       "      <td>0</td>\n",
       "      <td>0</td>\n",
       "      <td>0</td>\n",
       "      <td>0</td>\n",
       "    </tr>\n",
       "    <tr>\n",
       "      <th>3</th>\n",
       "      <td>1f8b</td>\n",
       "      <td>1.8</td>\n",
       "      <td>5.40</td>\n",
       "      <td>2</td>\n",
       "      <td>9</td>\n",
       "      <td>9</td>\n",
       "      <td>0</td>\n",
       "      <td>11</td>\n",
       "      <td>1</td>\n",
       "      <td>7</td>\n",
       "      <td>...</td>\n",
       "      <td>0</td>\n",
       "      <td>0</td>\n",
       "      <td>0</td>\n",
       "      <td>0</td>\n",
       "      <td>0</td>\n",
       "      <td>0</td>\n",
       "      <td>0</td>\n",
       "      <td>0</td>\n",
       "      <td>0</td>\n",
       "      <td>0</td>\n",
       "    </tr>\n",
       "    <tr>\n",
       "      <th>4</th>\n",
       "      <td>1f8c</td>\n",
       "      <td>1.7</td>\n",
       "      <td>7.40</td>\n",
       "      <td>3</td>\n",
       "      <td>9</td>\n",
       "      <td>8</td>\n",
       "      <td>0</td>\n",
       "      <td>11</td>\n",
       "      <td>4</td>\n",
       "      <td>7</td>\n",
       "      <td>...</td>\n",
       "      <td>0</td>\n",
       "      <td>0</td>\n",
       "      <td>0</td>\n",
       "      <td>0</td>\n",
       "      <td>0</td>\n",
       "      <td>0</td>\n",
       "      <td>0</td>\n",
       "      <td>0</td>\n",
       "      <td>0</td>\n",
       "      <td>0</td>\n",
       "    </tr>\n",
       "  </tbody>\n",
       "</table>\n",
       "<p>5 rows × 2425 columns</p>\n",
       "</div>"
      ],
      "text/plain": [
       "  PDB_ID  Resolution   pKd  CN  CC  CO  CS  CH  HN  CCC  ...  \\\n",
       "0   10gs         2.2  6.40   5  21   6   2  21   5   21  ...   \n",
       "1   1bcu         2.0  3.28   4  14   0   0   7   4   17  ...   \n",
       "2   1e66         2.1  9.89   3  20   0   0  17   2   27  ...   \n",
       "3   1f8b         1.8  5.40   2   9   9   0  11   1    7  ...   \n",
       "4   1f8c         1.7  7.40   3   9   8   0  11   4    7  ...   \n",
       "\n",
       "   LYS_Aromatic_E/F  MET_Aromatic_E/F  PHE_Aromatic_E/F  PRO_Aromatic_E/F  \\\n",
       "0                 0                 0                 0                 0   \n",
       "1                 0                 0                 0                 0   \n",
       "2                 0                 0                 0                 0   \n",
       "3                 0                 0                 0                 0   \n",
       "4                 0                 0                 0                 0   \n",
       "\n",
       "   SER_Aromatic_E/F  THR_Aromatic_E/F  TRP_Aromatic_E/F  TYR_Aromatic_E/F  \\\n",
       "0                 0                 0                 0                 0   \n",
       "1                 0                 0                 0                 0   \n",
       "2                 0                 0                 0                 0   \n",
       "3                 0                 0                 0                 0   \n",
       "4                 0                 0                 0                 0   \n",
       "\n",
       "   VAL_Aromatic_E/F  GLU_Aromatic_E/F  \n",
       "0                 0                 0  \n",
       "1                 0                 0  \n",
       "2                 0                 0  \n",
       "3                 0                 0  \n",
       "4                 0                 0  \n",
       "\n",
       "[5 rows x 2425 columns]"
      ]
     },
     "execution_count": 7,
     "metadata": {},
     "output_type": "execute_result"
    }
   ],
   "source": [
    "df_TS.head()"
   ]
  },
  {
   "cell_type": "code",
   "execution_count": 8,
   "metadata": {},
   "outputs": [],
   "source": [
    "# Traning Sets\n",
    "y_df_TR = df_TR['pKd']\n",
    "X_df_TR = df_TR.drop(['PDB_ID', 'Resolution', 'pKd'], axis=1)"
   ]
  },
  {
   "cell_type": "code",
   "execution_count": 9,
   "metadata": {},
   "outputs": [
    {
     "data": {
      "text/plain": [
       "((3481, 2422), (3481,))"
      ]
     },
     "execution_count": 9,
     "metadata": {},
     "output_type": "execute_result"
    }
   ],
   "source": [
    "X_df_TR.shape, y_df_TR.shape"
   ]
  },
  {
   "cell_type": "code",
   "execution_count": 10,
   "metadata": {},
   "outputs": [],
   "source": [
    "X_train, X_valid, Y_train, Y_valid = train_test_split(X_df_TR, y_df_TR, test_size=0.2, random_state=123456)"
   ]
  },
  {
   "cell_type": "code",
   "execution_count": 11,
   "metadata": {},
   "outputs": [],
   "source": [
    "# Test Sets\n",
    "y_df_TS = df_TS['pKd']\n",
    "X_df_TS = df_TS.drop(['PDB_ID', 'Resolution', 'pKd'], axis=1)"
   ]
  },
  {
   "cell_type": "code",
   "execution_count": 12,
   "metadata": {},
   "outputs": [
    {
     "data": {
      "text/plain": [
       "((180, 2422), (180,))"
      ]
     },
     "execution_count": 12,
     "metadata": {},
     "output_type": "execute_result"
    }
   ],
   "source": [
    "X_df_TS.shape, y_df_TS.shape"
   ]
  },
  {
   "cell_type": "markdown",
   "metadata": {},
   "source": [
    "# Optimized parameters\n",
    "## max_features = 'auto'\n",
    "## n_estimators=100\n",
    "## random_state = 1234"
   ]
  },
  {
   "cell_type": "code",
   "execution_count": 13,
   "metadata": {},
   "outputs": [],
   "source": [
    "models_RF_train = {\"RF\": RandomForestRegressor(bootstrap=True, criterion='mse', max_depth=None,\n",
    "                      max_features='auto', max_leaf_nodes=None,\n",
    "                      min_impurity_decrease=0.0, min_impurity_split=None,\n",
    "                      min_samples_leaf=1, min_samples_split=2,\n",
    "                      min_weight_fraction_leaf=0.0, n_estimators=100,\n",
    "                      n_jobs=None, oob_score=False, random_state=1234,\n",
    "                      verbose=0, warm_start=False)}"
   ]
  },
  {
   "cell_type": "code",
   "execution_count": 14,
   "metadata": {},
   "outputs": [
    {
     "data": {
      "text/plain": [
       "RF_train_r2                                          0.936698\n",
       "RF_rmse_train                                        0.496215\n",
       "RF_mae_train                                         0.381037\n",
       "RF_pcc_train                        (0.9768039565933417, 0.0)\n",
       "RF_valid_r2                                          0.556441\n",
       "RF_rmse_valid                                          1.3269\n",
       "RF_mae_valid                                            1.035\n",
       "RF_pcc_valid     (0.7469407968886873, 2.620446316023756e-125)\n",
       "dtype: object"
      ]
     },
     "execution_count": 14,
     "metadata": {},
     "output_type": "execute_result"
    }
   ],
   "source": [
    "# Calculate the Training and Validation (Refined set) statistics\n",
    "scores = {}\n",
    "for m in models_RF_train:\n",
    "    models_RF_train[m].fit(X_train, Y_train)\n",
    "    scores[m + \"_train_r2\"] = models_RF_train[m].score(X_train, Y_train)\n",
    "    Y_pred_valid_rf = models_RF_train[m].predict(X_valid)\n",
    "    Y_pred_train_rf = models_RF_train[m].predict(X_train)\n",
    "    scores[m + \"_rmse_train\"] = sqrt(mean_squared_error(Y_train, Y_pred_train_rf))\n",
    "    scores[m + \"_mae_train\"] = mean_absolute_error(Y_train, Y_pred_train_rf)\n",
    "    scores[m + \"_pcc_train\"] = pearsonr(Y_train, Y_pred_train_rf)\n",
    "    scores[m + \"_valid_r2\"] = r2_score(Y_valid, Y_pred_valid_rf)\n",
    "    scores[m + \"_rmse_valid\"] = sqrt(mean_squared_error(Y_valid, Y_pred_valid_rf))\n",
    "    scores[m + \"_mae_valid\"] = mean_absolute_error(Y_valid, Y_pred_valid_rf)\n",
    "    scores[m + \"_pcc_valid\"] = pearsonr(Y_valid, Y_pred_valid_rf)\n",
    "\n",
    "scores_RF_train = pd.Series(scores).T\n",
    "scores_RF_train"
   ]
  },
  {
   "cell_type": "code",
   "execution_count": 15,
   "metadata": {},
   "outputs": [
    {
     "data": {
      "text/plain": [
       "RF_test_r2                                         0.550425\n",
       "RF_rmse_test                                        1.48926\n",
       "RF_mae_test                                         1.22686\n",
       "RF_pcc_test     (0.7714351905515262, 8.709166066145693e-37)\n",
       "dtype: object"
      ]
     },
     "execution_count": 15,
     "metadata": {},
     "output_type": "execute_result"
    }
   ],
   "source": [
    "# Calculate statistics for test set (Core set) based on RF model\n",
    "scores = {}\n",
    "for m in models_RF_train:\n",
    "    Y_pred_test_rf = models_RF_train[m].predict(X_df_TS)\n",
    "    scores[m + \"_test_r2\"] = r2_score(y_df_TS, Y_pred_test_rf)\n",
    "    scores[m + \"_rmse_test\"] = sqrt(mean_squared_error(y_df_TS, Y_pred_test_rf))\n",
    "    scores[m + \"_mae_test\"] = mean_absolute_error(y_df_TS, Y_pred_test_rf)\n",
    "    scores[m + \"_pcc_test\"] = pearsonr(y_df_TS, Y_pred_test_rf)\n",
    "\n",
    "scores_RF_test = pd.Series(scores).T\n",
    "scores_RF_test"
   ]
  },
  {
   "cell_type": "code",
   "execution_count": 16,
   "metadata": {},
   "outputs": [],
   "source": [
    "# Save the test prediction result\n",
    "Pred_y = pd.DataFrame({'Y_pred_rf': Y_pred_test_rf})\n",
    "Exp_y = pd.DataFrame(y_df_TS)\n",
    "Prediction = pd.concat([Exp_y, Pred_y],axis=1)\n",
    "Prediction.to_excel('RF_test_Pred_Values_Int_Frag.xls')"
   ]
  },
  {
   "cell_type": "code",
   "execution_count": null,
   "metadata": {},
   "outputs": [],
   "source": []
  }
 ],
 "metadata": {
  "kernelspec": {
   "display_name": "Python 3",
   "language": "python",
   "name": "python3"
  },
  "language_info": {
   "codemirror_mode": {
    "name": "ipython",
    "version": 3
   },
   "file_extension": ".py",
   "mimetype": "text/x-python",
   "name": "python",
   "nbconvert_exporter": "python",
   "pygments_lexer": "ipython3",
   "version": "3.6.9"
  }
 },
 "nbformat": 4,
 "nbformat_minor": 2
}
